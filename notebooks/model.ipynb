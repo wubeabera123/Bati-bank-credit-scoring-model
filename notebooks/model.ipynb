{
 "cells": [
  {
   "cell_type": "markdown",
   "metadata": {},
   "source": [
    "# Import the necessary libraries"
   ]
  },
  {
   "cell_type": "code",
   "execution_count": 8,
   "metadata": {},
   "outputs": [],
   "source": [
    "import pandas as pd\n",
    "import sys\n",
    "import os\n",
    "import matplotlib.pyplot as plt\n",
    "import seaborn as sns\n",
    "# Cell 1: Import Libraries\n",
    "from sklearn.model_selection import train_test_split\n",
    "from sklearn.preprocessing import OneHotEncoder\n",
    "from sklearn.compose import ColumnTransformer\n",
    "from sklearn.pipeline import Pipeline\n",
    "from sklearn.impute import SimpleImputer\n",
    "from sklearn.ensemble import RandomForestClassifier\n",
    "from sklearn.linear_model import LogisticRegression\n",
    "from sklearn.metrics import classification_report, roc_auc_score, confusion_matrix, accuracy_score\n",
    " \n",
    "\n",
    "sys.path.append(os.path.abspath(os.path.join(os.getcwd(), '../scripts')))\n",
    "from load_csv_data import Load_CSV_Data\n"
   ]
  },
  {
   "cell_type": "markdown",
   "metadata": {},
   "source": [
    "# Load the data"
   ]
  },
  {
   "cell_type": "code",
   "execution_count": 9,
   "metadata": {},
   "outputs": [
    {
     "name": "stdout",
     "output_type": "stream",
     "text": [
      "Data successfully loaded from ../data/updated_data.csv\n"
     ]
    },
    {
     "name": "stderr",
     "output_type": "stream",
     "text": [
      "c:\\Users\\wubeshet.abera\\Projects\\Ten-Academy\\Bati-bank-credit-scoring-model\\scripts\\load_csv_data.py:12: DtypeWarning: Columns (15,16) have mixed types. Specify dtype option on import or set low_memory=False.\n",
      "  self.data = pd.read_csv(self.file_path)\n"
     ]
    }
   ],
   "source": [
    "df = Load_CSV_Data('../data/updated_data.csv')\n",
    "df.load_csv_data()\n",
    "df = df.get_data()\n"
   ]
  },
  {
   "cell_type": "code",
   "execution_count": 23,
   "metadata": {},
   "outputs": [
    {
     "data": {
      "text/html": [
       "<div>\n",
       "<style scoped>\n",
       "    .dataframe tbody tr th:only-of-type {\n",
       "        vertical-align: middle;\n",
       "    }\n",
       "\n",
       "    .dataframe tbody tr th {\n",
       "        vertical-align: top;\n",
       "    }\n",
       "\n",
       "    .dataframe thead th {\n",
       "        text-align: right;\n",
       "    }\n",
       "</style>\n",
       "<table border=\"1\" class=\"dataframe\">\n",
       "  <thead>\n",
       "    <tr style=\"text-align: right;\">\n",
       "      <th></th>\n",
       "      <th>TransactionId</th>\n",
       "      <th>BatchId</th>\n",
       "      <th>AccountId</th>\n",
       "      <th>SubscriptionId</th>\n",
       "      <th>CustomerId</th>\n",
       "      <th>CurrencyCode</th>\n",
       "      <th>CountryCode</th>\n",
       "      <th>ProviderId</th>\n",
       "      <th>ProductId</th>\n",
       "      <th>ChannelId</th>\n",
       "      <th>...</th>\n",
       "      <th>ProductCategory_transport</th>\n",
       "      <th>ProductCategory_tv</th>\n",
       "      <th>ProductCategory_utility_bill</th>\n",
       "      <th>Recency</th>\n",
       "      <th>Frequency</th>\n",
       "      <th>Monetary</th>\n",
       "      <th>TransactionMonth</th>\n",
       "      <th>Seasonality</th>\n",
       "      <th>RFMS_Score</th>\n",
       "      <th>UserCategory</th>\n",
       "    </tr>\n",
       "  </thead>\n",
       "  <tbody>\n",
       "    <tr>\n",
       "      <th>0</th>\n",
       "      <td>TransactionId_76871</td>\n",
       "      <td>BatchId_36123</td>\n",
       "      <td>AccountId_3957</td>\n",
       "      <td>SubscriptionId_887</td>\n",
       "      <td>1762</td>\n",
       "      <td>0</td>\n",
       "      <td>256.0</td>\n",
       "      <td>5</td>\n",
       "      <td>1</td>\n",
       "      <td>2</td>\n",
       "      <td>...</td>\n",
       "      <td>False</td>\n",
       "      <td>False</td>\n",
       "      <td>False</td>\n",
       "      <td>2063</td>\n",
       "      <td>118</td>\n",
       "      <td>-5.537408</td>\n",
       "      <td>11.0</td>\n",
       "      <td>11.0</td>\n",
       "      <td>725.154197</td>\n",
       "      <td>Good</td>\n",
       "    </tr>\n",
       "    <tr>\n",
       "      <th>1</th>\n",
       "      <td>TransactionId_26203</td>\n",
       "      <td>BatchId_53941</td>\n",
       "      <td>AccountId_4229</td>\n",
       "      <td>SubscriptionId_222</td>\n",
       "      <td>2009</td>\n",
       "      <td>0</td>\n",
       "      <td>256.0</td>\n",
       "      <td>6</td>\n",
       "      <td>0</td>\n",
       "      <td>2</td>\n",
       "      <td>...</td>\n",
       "      <td>False</td>\n",
       "      <td>False</td>\n",
       "      <td>False</td>\n",
       "      <td>2143</td>\n",
       "      <td>2</td>\n",
       "      <td>-0.100857</td>\n",
       "      <td>11.0</td>\n",
       "      <td>11.0</td>\n",
       "      <td>714.966381</td>\n",
       "      <td>Bad</td>\n",
       "    </tr>\n",
       "    <tr>\n",
       "      <th>2</th>\n",
       "      <td>TransactionId_380</td>\n",
       "      <td>BatchId_102363</td>\n",
       "      <td>AccountId_648</td>\n",
       "      <td>SubscriptionId_2185</td>\n",
       "      <td>3039</td>\n",
       "      <td>0</td>\n",
       "      <td>256.0</td>\n",
       "      <td>0</td>\n",
       "      <td>3</td>\n",
       "      <td>2</td>\n",
       "      <td>...</td>\n",
       "      <td>False</td>\n",
       "      <td>False</td>\n",
       "      <td>True</td>\n",
       "      <td>2067</td>\n",
       "      <td>37</td>\n",
       "      <td>-0.155720</td>\n",
       "      <td>11.0</td>\n",
       "      <td>12.0</td>\n",
       "      <td>701.281427</td>\n",
       "      <td>Bad</td>\n",
       "    </tr>\n",
       "    <tr>\n",
       "      <th>3</th>\n",
       "      <td>TransactionId_23223</td>\n",
       "      <td>BatchId_25954</td>\n",
       "      <td>AccountId_1078</td>\n",
       "      <td>SubscriptionId_4238</td>\n",
       "      <td>2424</td>\n",
       "      <td>0</td>\n",
       "      <td>256.0</td>\n",
       "      <td>5</td>\n",
       "      <td>8</td>\n",
       "      <td>2</td>\n",
       "      <td>...</td>\n",
       "      <td>False</td>\n",
       "      <td>False</td>\n",
       "      <td>False</td>\n",
       "      <td>2152</td>\n",
       "      <td>1</td>\n",
       "      <td>-0.024647</td>\n",
       "      <td>11.0</td>\n",
       "      <td>11.0</td>\n",
       "      <td>717.658451</td>\n",
       "      <td>Bad</td>\n",
       "    </tr>\n",
       "    <tr>\n",
       "      <th>4</th>\n",
       "      <td>TransactionId_118063</td>\n",
       "      <td>BatchId_118460</td>\n",
       "      <td>AccountId_2442</td>\n",
       "      <td>SubscriptionId_1980</td>\n",
       "      <td>365</td>\n",
       "      <td>0</td>\n",
       "      <td>256.0</td>\n",
       "      <td>4</td>\n",
       "      <td>8</td>\n",
       "      <td>2</td>\n",
       "      <td>...</td>\n",
       "      <td>False</td>\n",
       "      <td>False</td>\n",
       "      <td>False</td>\n",
       "      <td>2067</td>\n",
       "      <td>29</td>\n",
       "      <td>-0.822556</td>\n",
       "      <td>11.0</td>\n",
       "      <td>12.0</td>\n",
       "      <td>698.392481</td>\n",
       "      <td>Bad</td>\n",
       "    </tr>\n",
       "  </tbody>\n",
       "</table>\n",
       "<p>5 rows × 40 columns</p>\n",
       "</div>"
      ],
      "text/plain": [
       "          TransactionId         BatchId       AccountId       SubscriptionId  \\\n",
       "0   TransactionId_76871   BatchId_36123  AccountId_3957   SubscriptionId_887   \n",
       "1   TransactionId_26203   BatchId_53941  AccountId_4229   SubscriptionId_222   \n",
       "2     TransactionId_380  BatchId_102363   AccountId_648  SubscriptionId_2185   \n",
       "3   TransactionId_23223   BatchId_25954  AccountId_1078  SubscriptionId_4238   \n",
       "4  TransactionId_118063  BatchId_118460  AccountId_2442  SubscriptionId_1980   \n",
       "\n",
       "   CustomerId  CurrencyCode  CountryCode  ProviderId  ProductId  ChannelId  \\\n",
       "0        1762             0        256.0           5          1          2   \n",
       "1        2009             0        256.0           6          0          2   \n",
       "2        3039             0        256.0           0          3          2   \n",
       "3        2424             0        256.0           5          8          2   \n",
       "4         365             0        256.0           4          8          2   \n",
       "\n",
       "   ...  ProductCategory_transport  ProductCategory_tv  \\\n",
       "0  ...                      False               False   \n",
       "1  ...                      False               False   \n",
       "2  ...                      False               False   \n",
       "3  ...                      False               False   \n",
       "4  ...                      False               False   \n",
       "\n",
       "  ProductCategory_utility_bill  Recency  Frequency  Monetary TransactionMonth  \\\n",
       "0                        False     2063        118 -5.537408             11.0   \n",
       "1                        False     2143          2 -0.100857             11.0   \n",
       "2                         True     2067         37 -0.155720             11.0   \n",
       "3                        False     2152          1 -0.024647             11.0   \n",
       "4                        False     2067         29 -0.822556             11.0   \n",
       "\n",
       "   Seasonality  RFMS_Score  UserCategory  \n",
       "0         11.0  725.154197          Good  \n",
       "1         11.0  714.966381           Bad  \n",
       "2         12.0  701.281427           Bad  \n",
       "3         11.0  717.658451           Bad  \n",
       "4         12.0  698.392481           Bad  \n",
       "\n",
       "[5 rows x 40 columns]"
      ]
     },
     "execution_count": 23,
     "metadata": {},
     "output_type": "execute_result"
    }
   ],
   "source": [
    "df.head()"
   ]
  },
  {
   "cell_type": "markdown",
   "metadata": {},
   "source": [
    "# Modeling"
   ]
  },
  {
   "cell_type": "markdown",
   "metadata": {},
   "source": [
    "###  Sample Data Creation"
   ]
  },
  {
   "cell_type": "code",
   "execution_count": 6,
   "metadata": {},
   "outputs": [],
   "source": [
    "# # Cell 2: Sample Data Creation\n",
    "# data = {\n",
    "#     \"TransactionId\": [\"TransactionId_76871\", \"TransactionId_26203\", \"TransactionId_380\"],\n",
    "#     \"BatchId\": [\"BatchId_36123\", \"BatchId_53941\", \"BatchId_102363\"],\n",
    "#     \"AccountId\": [\"AccountId_3957\", \"AccountId_4229\", \"AccountId_648\"],\n",
    "#     \"SubscriptionId\": [\"SubscriptionId_887\", \"SubscriptionId_222\", \"SubscriptionId_2185\"],\n",
    "#     \"CustomerId\": [1762, 2009, 3039],\n",
    "#     \"CurrencyCode\": [0, 0, 0],\n",
    "#     \"CountryCode\": [256.0, 256.0, 256.0],\n",
    "#     \"ProviderId\": [5, 6, 0],\n",
    "#     \"ProductId\": [1, 0, 3],\n",
    "#     \"ChannelId\": [2, 2, 2],\n",
    "#     \"Recency\": [2063, 2143, 2067],\n",
    "#     \"Frequency\": [118, 2, 37],\n",
    "#     \"Monetary\": [-5.537408, -0.100857, -0.155720],\n",
    "#     \"TransactionMonth\": [11.0, 11.0, 12.0],\n",
    "#     \"Seasonality\": [725.154197, 714.966381, 701.281427],\n",
    "#     \"RFMS_Score\": [725.154197, 714.966381, 701.281427],\n",
    "#     \"UserCategory\": [\"Good\", \"Good\", \"Good\"]\n",
    "# }\n",
    "\n",
    "# df = pd.DataFrame(data)\n"
   ]
  },
  {
   "cell_type": "markdown",
   "metadata": {},
   "source": [
    "### Preprocessing Function\n"
   ]
  },
  {
   "cell_type": "code",
   "execution_count": 11,
   "metadata": {},
   "outputs": [],
   "source": [
    "# Cell 3: Preprocessing Function\n",
    "def preprocess_data(df, target_column='UserCategory'):\n",
    "    # Identify features and target\n",
    "    X = df.drop(columns=[target_column, 'Recency', 'Frequency', 'Monetary', 'Seasonality', 'RFMS_Score'])\n",
    "    y = df[target_column]\n",
    "    \n",
    "    # Identify categorical and numerical columns\n",
    "    categorical_cols = X.select_dtypes(include=['object']).columns.tolist()\n",
    "    numerical_cols = X.select_dtypes(include=['float64', 'int64']).columns.tolist()\n",
    "    \n",
    "    # Create preprocessing pipelines\n",
    "    numerical_transformer = Pipeline(steps=[\n",
    "        ('imputer', SimpleImputer(strategy='mean')),\n",
    "    ])\n",
    "\n",
    "    categorical_transformer = Pipeline(steps=[\n",
    "        ('imputer', SimpleImputer(strategy='constant', fill_value='missing')),\n",
    "        ('onehot', OneHotEncoder(handle_unknown='ignore'))\n",
    "    ])\n",
    "\n",
    "    # Combine transformers\n",
    "    preprocessor = ColumnTransformer(\n",
    "        transformers=[\n",
    "            ('num', numerical_transformer, numerical_cols),\n",
    "            ('cat', categorical_transformer, categorical_cols)\n",
    "        ])\n",
    "\n",
    "    # Fit and transform the features\n",
    "    X_processed = preprocessor.fit_transform(X)\n",
    "    \n",
    "    return X_processed, y\n"
   ]
  },
  {
   "cell_type": "markdown",
   "metadata": {},
   "source": [
    "### Data Splitting Function"
   ]
  },
  {
   "cell_type": "code",
   "execution_count": 12,
   "metadata": {},
   "outputs": [],
   "source": [
    "# Cell 4: Data Splitting Function\n",
    "def split_data(df, target_column='UserCategory', test_size=0.2, random_state=42):\n",
    "    # Preprocess the data\n",
    "    X, y = preprocess_data(df, target_column)\n",
    "\n",
    "    # Split into training and test sets\n",
    "    X_train, X_test, y_train, y_test = train_test_split(X, y, test_size=test_size, random_state=random_state)\n",
    "\n",
    "    # Show sample data output after split\n",
    "    print(\"Training Data Sample Shape:\", X_train.shape)\n",
    "    print(\"Test Data Sample Shape:\", X_test.shape)\n",
    "    \n",
    "    return X_train, X_test, y_train, y_test\n"
   ]
  },
  {
   "cell_type": "markdown",
   "metadata": {},
   "source": [
    "### Model Training Function"
   ]
  },
  {
   "cell_type": "code",
   "execution_count": 13,
   "metadata": {},
   "outputs": [],
   "source": [
    "# Cell 5: Model Training Function\n",
    "def train_models(X_train, y_train):\n",
    "    models = {\n",
    "        'Logistic Regression': LogisticRegression(max_iter=1000),\n",
    "        'Random Forest': RandomForestClassifier()\n",
    "    }\n",
    "    \n",
    "    results = {}\n",
    "    for model_name, model in models.items():\n",
    "        model.fit(X_train, y_train)\n",
    "        results[model_name] = model\n",
    "\n",
    "        y_pred = model.predict(X_test)\n",
    "        print(f\"Model: {model_name}\")\n",
    "        print(\"Accuracy:\", accuracy_score(y_test, y_pred))\n",
    "        print(\"ROC AUC Score:\", roc_auc_score(y_test, model.predict_proba(X_test)[:, 1]))\n",
    "        print(\"Confusion Matrix:\\n\", confusion_matrix(y_test, y_pred))\n",
    "        print(\"Classification Report:\\n\", classification_report(y_test, y_pred))\n",
    "    \n",
    "    return results\n"
   ]
  },
  {
   "cell_type": "markdown",
   "metadata": {},
   "source": [
    "### Model Evaluation Function"
   ]
  },
  {
   "cell_type": "code",
   "execution_count": 15,
   "metadata": {},
   "outputs": [],
   "source": [
    "# Cell 6: Model Evaluation Function\n",
    "def evaluate_models(models, X_test, y_test):\n",
    "    for model_name, model in models.items():\n",
    "        y_pred = model.predict(X_test)\n",
    "        print(f\"Model: {model_name}\")\n",
    "        print(\"Accuracy:\", accuracy_score(y_test, y_pred))\n",
    "        print(classification_report(y_test, y_pred))\n",
    "\n",
    "\n",
    " "
   ]
  },
  {
   "cell_type": "markdown",
   "metadata": {},
   "source": [
    "### Run the Process"
   ]
  },
  {
   "cell_type": "code",
   "execution_count": 14,
   "metadata": {},
   "outputs": [
    {
     "name": "stdout",
     "output_type": "stream",
     "text": [
      "Training Data Sample Shape: (76528, 292323)\n",
      "Test Data Sample Shape: (19132, 292323)\n"
     ]
    },
    {
     "name": "stderr",
     "output_type": "stream",
     "text": [
      "c:\\Users\\wubeshet.abera\\Projects\\Ten-Academy\\Bati-bank-credit-scoring-model\\venv\\Lib\\site-packages\\sklearn\\linear_model\\_logistic.py:469: ConvergenceWarning: lbfgs failed to converge (status=1):\n",
      "STOP: TOTAL NO. of ITERATIONS REACHED LIMIT.\n",
      "\n",
      "Increase the number of iterations (max_iter) or scale the data as shown in:\n",
      "    https://scikit-learn.org/stable/modules/preprocessing.html\n",
      "Please also refer to the documentation for alternative solver options:\n",
      "    https://scikit-learn.org/stable/modules/linear_model.html#logistic-regression\n",
      "  n_iter_i = _check_optimize_result(\n"
     ]
    },
    {
     "name": "stdout",
     "output_type": "stream",
     "text": [
      "Model: Logistic Regression\n",
      "Accuracy: 0.9742316537737822\n",
      "ROC AUC Score: 0.9944843573316978\n",
      "Confusion Matrix:\n",
      " [[9306  187]\n",
      " [ 306 9333]]\n",
      "Classification Report:\n",
      "               precision    recall  f1-score   support\n",
      "\n",
      "         Bad       0.97      0.98      0.97      9493\n",
      "        Good       0.98      0.97      0.97      9639\n",
      "\n",
      "    accuracy                           0.97     19132\n",
      "   macro avg       0.97      0.97      0.97     19132\n",
      "weighted avg       0.97      0.97      0.97     19132\n",
      "\n",
      "Model: Random Forest\n",
      "Accuracy: 0.9962366715450554\n",
      "ROC AUC Score: 0.9997462488317462\n",
      "Confusion Matrix:\n",
      " [[9493    0]\n",
      " [  72 9567]]\n",
      "Classification Report:\n",
      "               precision    recall  f1-score   support\n",
      "\n",
      "         Bad       0.99      1.00      1.00      9493\n",
      "        Good       1.00      0.99      1.00      9639\n",
      "\n",
      "    accuracy                           1.00     19132\n",
      "   macro avg       1.00      1.00      1.00     19132\n",
      "weighted avg       1.00      1.00      1.00     19132\n",
      "\n"
     ]
    }
   ],
   "source": [
    "# Cell 7: Run the Process\n",
    "X_train, X_test, y_train, y_test = split_data(df, target_column='UserCategory')\n",
    "models = train_models(X_train, y_train)\n"
   ]
  },
  {
   "cell_type": "markdown",
   "metadata": {},
   "source": [
    "### Evaluate the models"
   ]
  },
  {
   "cell_type": "code",
   "execution_count": 16,
   "metadata": {},
   "outputs": [
    {
     "name": "stdout",
     "output_type": "stream",
     "text": [
      "Model: Logistic Regression\n",
      "Accuracy: 0.9742316537737822\n",
      "              precision    recall  f1-score   support\n",
      "\n",
      "         Bad       0.97      0.98      0.97      9493\n",
      "        Good       0.98      0.97      0.97      9639\n",
      "\n",
      "    accuracy                           0.97     19132\n",
      "   macro avg       0.97      0.97      0.97     19132\n",
      "weighted avg       0.97      0.97      0.97     19132\n",
      "\n",
      "Model: Random Forest\n",
      "Accuracy: 0.9962366715450554\n",
      "              precision    recall  f1-score   support\n",
      "\n",
      "         Bad       0.99      1.00      1.00      9493\n",
      "        Good       1.00      0.99      1.00      9639\n",
      "\n",
      "    accuracy                           1.00     19132\n",
      "   macro avg       1.00      1.00      1.00     19132\n",
      "weighted avg       1.00      1.00      1.00     19132\n",
      "\n"
     ]
    }
   ],
   "source": [
    "evaluate_models(models, X_test, y_test)"
   ]
  }
 ],
 "metadata": {
  "kernelspec": {
   "display_name": "venv",
   "language": "python",
   "name": "python3"
  },
  "language_info": {
   "codemirror_mode": {
    "name": "ipython",
    "version": 3
   },
   "file_extension": ".py",
   "mimetype": "text/x-python",
   "name": "python",
   "nbconvert_exporter": "python",
   "pygments_lexer": "ipython3",
   "version": "3.12.3"
  }
 },
 "nbformat": 4,
 "nbformat_minor": 2
}
